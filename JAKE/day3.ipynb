{
 "metadata": {
  "language_info": {
   "codemirror_mode": {
    "name": "ipython",
    "version": 3
   },
   "file_extension": ".py",
   "mimetype": "text/x-python",
   "name": "python",
   "nbconvert_exporter": "python",
   "pygments_lexer": "ipython3",
   "version": "3.6.5-final"
  },
  "orig_nbformat": 2,
  "kernelspec": {
   "name": "python3",
   "display_name": "Python 3"
  }
 },
 "nbformat": 4,
 "nbformat_minor": 2,
 "cells": [
  {
   "cell_type": "code",
   "execution_count": 70,
   "metadata": {
    "tags": []
   },
   "outputs": [
    {
     "output_type": "stream",
     "name": "stdout",
     "text": [
      "0 1\nNumber of trees  58\nNumber of trees  223\nNumber of trees  105\nNumber of trees  74\nNumber of trees  35\nProduct of trees  3517401300\n"
     ]
    }
   ],
   "source": [
    "# Import data\n",
    "filename = 'C:\\git\\AOC2020\\DATJA\\day3.txt'\n",
    "\n",
    "cols = 31\n",
    "with open(filename, encoding='utf8') as f:\n",
    "    complete_map = [line.rstrip('\\n') for line in f]\n",
    "\n",
    "# Multiply pattern\n",
    "print(0 % 2,1 % 2)\n",
    "mult_tree = 1\n",
    "# move through map\n",
    "move_right = [1, 3, 5, 7, 1]\n",
    "move_down = [1, 1, 1, 1, 2]\n",
    "for right, down in zip(move_right, move_down):\n",
    "    count_tree = 0\n",
    "    for i_row,line in enumerate(complete_map):\n",
    "        if (i_row % down) == 0:\n",
    "            i_col = int(i_row*right/down % cols)\n",
    "            if line[i_col] == '#':\n",
    "                count_tree += 1\n",
    "                line_new = line[:i_col] + 'X' + line[(i_col+1):]\n",
    "            else:\n",
    "                line_new = line[:i_col] + 'O' + line[(i_col+1):]\n",
    "    mult_tree *= count_tree\n",
    "    print('Number of trees ', count_tree)\n",
    "print('Product of trees ', mult_tree)"
   ]
  }
 ]
}