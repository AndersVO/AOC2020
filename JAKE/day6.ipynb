{
 "metadata": {
  "language_info": {
   "codemirror_mode": {
    "name": "ipython",
    "version": 3
   },
   "file_extension": ".py",
   "mimetype": "text/x-python",
   "name": "python",
   "nbconvert_exporter": "python",
   "pygments_lexer": "ipython3",
   "version": "3.9.1-final"
  },
  "orig_nbformat": 2,
  "kernelspec": {
   "name": "python3",
   "display_name": "Python 3.9.1 64-bit",
   "metadata": {
    "interpreter": {
     "hash": "63fd5069d213b44bf678585dea6b12cceca9941eaf7f819626cde1f2670de90d"
    }
   }
  }
 },
 "nbformat": 4,
 "nbformat_minor": 2,
 "cells": [
  {
   "cell_type": "code",
   "execution_count": 13,
   "metadata": {
    "tags": []
   },
   "outputs": [
    {
     "output_type": "stream",
     "name": "stdout",
     "text": [
      "6686 3476\n"
     ]
    }
   ],
   "source": [
    "filename = 'C:\\git\\AOC2020\\DATJA\\day6.txt'\n",
    "\n",
    "def split(word): \n",
    "    return [char for char in word] \n",
    "\n",
    "with open(filename, encoding='utf8') as f:\n",
    "    question_map = [line.rstrip('\\n') for line in f]\n",
    "group_list = []\n",
    "group = []\n",
    "question_sum = 0\n",
    "sum_yes = 0\n",
    "for l in question_map:\n",
    "    if l == '':\n",
    "        group_size = len(group)\n",
    "        group_unique = [item for sublist in group for item in sublist]\n",
    "        group_unique = set(group_unique)\n",
    "        for k in group_unique:\n",
    "            count_yes = 0\n",
    "            for i in group:\n",
    "                if k in i:\n",
    "                    count_yes += 1\n",
    "                if count_yes == group_size:\n",
    "                    sum_yes += 1\n",
    "        question_sum += len(set(group_unique))\n",
    "        group_list.append(group_unique)\n",
    "        group_unique = []\n",
    "        group = []\n",
    "    else:\n",
    "        group.append(split(l))\n",
    "print(question_sum, sum_yes)\n",
    "assert question_sum == 6686\n",
    "assert sum_yes == 3476"
   ]
  }
 ]
}