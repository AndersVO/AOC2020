{
 "metadata": {
  "language_info": {
   "codemirror_mode": {
    "name": "ipython",
    "version": 3
   },
   "file_extension": ".py",
   "mimetype": "text/x-python",
   "name": "python",
   "nbconvert_exporter": "python",
   "pygments_lexer": "ipython3",
   "version": "3.6.5-final"
  },
  "orig_nbformat": 2,
  "kernelspec": {
   "name": "python3",
   "display_name": "Python 3"
  }
 },
 "nbformat": 4,
 "nbformat_minor": 2,
 "cells": [
  {
   "cell_type": "code",
   "execution_count": 69,
   "metadata": {
    "tags": []
   },
   "outputs": [
    {
     "output_type": "stream",
     "name": "stdout",
     "text": [
      "[['a', 'b', 'c']]\n1\n1\n1\n[['a'], ['b'], ['c']]\n1\n1\n1\n[['a', 'b'], ['a', 'c']]\n2\n1\n2\n1\n[['a'], ['a'], ['a'], ['a']]\n4\n4\n4\n4\n[['b']]\n1\n11\n"
     ]
    }
   ],
   "source": [
    "filename = 'C:\\git\\AOC2020\\DATJA\\day6test.txt'\n",
    "\n",
    "def split(word): \n",
    "    return [char for char in word] \n",
    "\n",
    "with open(filename, encoding='utf8') as f:\n",
    "    question_map = [line.rstrip('\\n') for line in f]\n",
    "group_list = []\n",
    "group = []\n",
    "question_sum = 0\n",
    "for l in question_map:\n",
    "    if l == '':\n",
    "        print(group)\n",
    "        group_size = len(group)\n",
    "        group_unique = [item for sublist in group for item in sublist]\n",
    "        for k in group_unique:\n",
    "            count_yes = 0\n",
    "            for i in group:\n",
    "                if k in i:\n",
    "                    count_yes += 1\n",
    "            print(count_yes)\n",
    "        question_sum += len(set(group_unique))\n",
    "        group_list.append(group_unique)\n",
    "        group_unique = []\n",
    "        group = []\n",
    "    else:\n",
    "        group.append(split(l))\n",
    "print(question_sum)\n",
    "#assert question_sum == 6686"
   ]
  }
 ]
}