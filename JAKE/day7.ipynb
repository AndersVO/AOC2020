{
 "metadata": {
  "language_info": {
   "codemirror_mode": {
    "name": "ipython",
    "version": 3
   },
   "file_extension": ".py",
   "mimetype": "text/x-python",
   "name": "python",
   "nbconvert_exporter": "python",
   "pygments_lexer": "ipython3",
   "version": "3.9.1-final"
  },
  "orig_nbformat": 2,
  "kernelspec": {
   "name": "python3",
   "display_name": "Python 3.9.1 64-bit",
   "metadata": {
    "interpreter": {
     "hash": "63fd5069d213b44bf678585dea6b12cceca9941eaf7f819626cde1f2670de90d"
    }
   }
  }
 },
 "nbformat": 4,
 "nbformat_minor": 2,
 "cells": [
  {
   "cell_type": "code",
   "execution_count": 50,
   "metadata": {
    "tags": []
   },
   "outputs": [
    {
     "output_type": "stream",
     "name": "stdout",
     "text": [
      "restult 10219\n"
     ]
    }
   ],
   "source": [
    "import re\n",
    "\n",
    "def convert(lst):\n",
    "    lst = [l.strip() for l in lst if not l == '']\n",
    "    res_dct = {lst[0]: lst[1::]}\n",
    "    return res_dct\n",
    "\n",
    "def list2dict(data):\n",
    "    for item in data:\n",
    "        name = item['name']\n",
    "        new_dict[name] = item\n",
    "\n",
    "def checkRules(rules, my_bag, all_bags):\n",
    "    for rule in rules:\n",
    "        for outer_bag, inner_bag in rule.items():\n",
    "            for bag in inner_bag:\n",
    "                if my_bag in bag:\n",
    "                    #print(outer_bag,inner_bag,my_bag)\n",
    "                    all_bags.append(outer_bag)\n",
    "                    all_bags = checkRules(rules, outer_bag, all_bags)\n",
    "    print('pause',all_bags)\n",
    "    return all_bags\n",
    "\n",
    "def bagsInside(bag):\n",
    "    return []\n",
    "\n",
    "def countBags(rules, my_bag, count, n_bags_):\n",
    "    for bag in rules[my_bag]:\n",
    "        if count == None:\n",
    "            count = 0\n",
    "        n_bags = [int(s) for s in bag.split() if s.isdigit()]\n",
    "        color = ' '.join([s for s in bag.split() if s.isalpha()])\n",
    "        if 'no other' in color:\n",
    "            return count\n",
    "        else:\n",
    "            count += n_bags[0]*n_bags_\n",
    "            count = countBags(rules, color, count, n_bags[0]*n_bags_)\n",
    "    return count\n",
    "\n",
    "filename = 'C:\\git\\AOC2020\\DATJA\\day7.txt'\n",
    "\n",
    "with open(filename, encoding='utf8') as f:\n",
    "    rules = [convert(re.split(', |contain |\\n',line.replace('bags','').replace('bag','').replace('.',''))) for line in f]\n",
    "\n",
    "#result = checkRules(rules, 'shiny gold', [])\n",
    "#print(len(set(result)))\n",
    "\n",
    "filename = 'C:\\git\\AOC2020\\DATJA\\day7.txt'\n",
    "\n",
    "with open(filename, encoding='utf8') as f:\n",
    "    rules = [convert(re.split(', |contain |\\n',line.replace('bags','').replace('bag','').replace('.',''))) for line in f]\n",
    "\n",
    "new_rules = dict((key,d[key]) for d in rules for key in d)\n",
    "result = countBags(new_rules, 'shiny gold', 0, 1)\n",
    "print('restult', result)"
   ]
  }
 ]
}