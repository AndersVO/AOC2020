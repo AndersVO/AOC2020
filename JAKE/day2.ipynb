{
 "metadata": {
  "language_info": {
   "codemirror_mode": {
    "name": "ipython",
    "version": 3
   },
   "file_extension": ".py",
   "mimetype": "text/x-python",
   "name": "python",
   "nbconvert_exporter": "python",
   "pygments_lexer": "ipython3",
   "version": "3.6.5-final"
  },
  "orig_nbformat": 2,
  "kernelspec": {
   "name": "python3",
   "display_name": "Python 3"
  }
 },
 "nbformat": 4,
 "nbformat_minor": 2,
 "cells": [
  {
   "cell_type": "code",
   "execution_count": 69,
   "metadata": {
    "tags": []
   },
   "outputs": [
    {
     "output_type": "stream",
     "name": "stdout",
     "text": [
      "572\n306\n"
     ]
    }
   ],
   "source": [
    "import re\n",
    "\n",
    "def countLetters(letter, word):\n",
    "    return word.count(letter)\n",
    "\n",
    "def isNLettersInPassWord(password, low, high, letter):\n",
    "    nletter = countLetters(letter, password)\n",
    "    if nletter >= int(low) and nletter <= int(high):\n",
    "        return 1\n",
    "    else:\n",
    "        return 0\n",
    "\n",
    "def isNLettersInPosition(password, pos1, pos2, letter):\n",
    "    char1 = password[int(pos1)-1]\n",
    "    char2 = password[int(pos2)-1]\n",
    "    n_letter = countLetters(letter, char1 + char2)\n",
    "    if n_letter == 1:\n",
    "        return 1\n",
    "    else:\n",
    "        return 0\n",
    "\n",
    "# Import data\n",
    "filename = 'C:\\git\\AOC2020\\DATJA\\day2.txt'\n",
    "\n",
    "with open(filename, encoding='utf8') as f:\n",
    "    mylist = [line.rstrip('\\n') for line in f]\n",
    "\n",
    "count1 = 0\n",
    "count2 = 0\n",
    "for password in mylist:\n",
    "    low, high, letter, space, password = re.split('[-: ]', password)\n",
    "    res1 = isNLettersInPassWord(password, low, high, letter)\n",
    "    res2 = isNLettersInPosition(password, low, high, letter)\n",
    "    if res1:\n",
    "        count1 += 1\n",
    "    if res2:\n",
    "        count2 += 1\n",
    "\n",
    "print(count1)\n",
    "print(count2)\n",
    "assert count1 == 572\n",
    "assert count2 == 306"
   ]
  }
 ]
}