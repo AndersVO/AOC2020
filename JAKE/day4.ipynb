{
 "metadata": {
  "language_info": {
   "codemirror_mode": {
    "name": "ipython",
    "version": 3
   },
   "file_extension": ".py",
   "mimetype": "text/x-python",
   "name": "python",
   "nbconvert_exporter": "python",
   "pygments_lexer": "ipython3",
   "version": "3.6.5-final"
  },
  "orig_nbformat": 2,
  "kernelspec": {
   "name": "python3",
   "display_name": "Python 3"
  }
 },
 "nbformat": 4,
 "nbformat_minor": 2,
 "cells": [
  {
   "cell_type": "code",
   "execution_count": 68,
   "metadata": {
    "tags": []
   },
   "outputs": [
    {
     "output_type": "stream",
     "name": "stdout",
     "text": [
      "189\n100\n184\n187\n67\n119\n111\nNumber of valid passports  194\n"
     ]
    }
   ],
   "source": [
    "import re, string\n",
    "\n",
    "def checkBounderies(x, low, high):\n",
    "    return int(x) >= low and int(x) <= high\n",
    "\n",
    "def checkfield(field,value):\n",
    "    #print(field,': ', value)\n",
    "    if field == 'byr':\n",
    "        return checkBounderies(value,1920, 2002)\n",
    "    elif field == 'iyr':\n",
    "        return checkBounderies(value,2010, 2020)\n",
    "    elif field == 'eyr':\n",
    "        return checkBounderies(value,2020, 2030)\n",
    "    elif field == 'hgt':\n",
    "        if 'cm' in value:\n",
    "            return checkBounderies(value[0:-2],150, 193)\n",
    "        elif 'in' in value:\n",
    "            return checkBounderies(value[0:-2],59, 76)\n",
    "        else:\n",
    "            print(value)\n",
    "            return False\n",
    "    elif field == 'hcl':\n",
    "        if value[0] == '#':\n",
    "            return bool(re.match ('[a-f0-9]', value[1::], re.IGNORECASE))\n",
    "        else:\n",
    "            return False\n",
    "    elif field == 'ecl':\n",
    "        valid_ecl = ['amb', 'blu', 'brn', 'gry', 'grn', 'hzl', 'oth']\n",
    "        if value in valid_ecl:\n",
    "            return True\n",
    "        else:\n",
    "            return False\n",
    "    elif field == 'pid':\n",
    "        return len(value) == 9 and value.isdecimal()\n",
    "    elif field == 'cid':\n",
    "        return False\n",
    "    else:\n",
    "        return False\n",
    "\n",
    "\n",
    "# Import data\n",
    "filename = 'C:\\git\\AOC2020\\DATJA\\day4.txt'\n",
    "\n",
    "valid_keys = ['byr','iyr','eyr','hgt','hcl','ecl','pid']\n",
    "\n",
    "passport_count = 0\n",
    "#with open(filename, encoding='utf8') as f:\n",
    "data = [l[0].split(' ') for l in [line.split('\\n') for line in open(filename)]]\n",
    "passports = {}\n",
    "for id_pass in data:\n",
    "    for field in id_pass:\n",
    "        kv_list = field.split(':')\n",
    "        if not kv_list[0] == '':\n",
    "            is_valid = checkfield(kv_list[0], kv_list[1])\n",
    "            if is_valid:\n",
    "                passports[kv_list[0]] = kv_list[1]\n",
    "        else:\n",
    "            #print(passports)\n",
    "            #print(all(item in passports for item in valid_keys))\n",
    "            if all(item in passports for item in valid_keys):\n",
    "                passport_count += 1\n",
    "            passports = {}\n",
    "print('Number of valid passports ', passport_count)"
   ]
  }
 ]
}