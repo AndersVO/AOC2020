{
 "metadata": {
  "language_info": {
   "codemirror_mode": {
    "name": "ipython",
    "version": 3
   },
   "file_extension": ".py",
   "mimetype": "text/x-python",
   "name": "python",
   "nbconvert_exporter": "python",
   "pygments_lexer": "ipython3",
   "version": "3.6.5-final"
  },
  "orig_nbformat": 2,
  "kernelspec": {
   "name": "python3",
   "display_name": "Python 3"
  }
 },
 "nbformat": 4,
 "nbformat_minor": 2,
 "cells": [
  {
   "cell_type": "code",
   "execution_count": 65,
   "metadata": {
    "tags": []
   },
   "outputs": [
    {
     "output_type": "stream",
     "name": "stdout",
     "text": [
      "prod1 1005459\n",
      "prod2 92643264\n"
     ]
    }
   ],
   "source": [
    "# Import data\n",
    "f = open('C:\\git\\AOC2020\\DATJA\\day1.txt', 'r')\n",
    "\n",
    "expense = [int(line) for line in f]\n",
    "#rest = [2020 - int(val_main) for val_main in expense]\n",
    "#sum_expense = [rest + int(val) for val in expense]\n",
    "prod1 = 0\n",
    "prod2 = 0\n",
    "for val_main in expense:\n",
    "    for val_sub in expense:\n",
    "        if val_main + val_sub == 2020 and prod1 == 0:\n",
    "            prod1 = val_main * val_sub\n",
    "            print('prod1',prod1)\n",
    "        for val_sub_sub in expense:\n",
    "            if  val_main + val_sub + val_sub_sub == 2020 and prod2 == 0:\n",
    "                prod2 = val_sub * val_main * val_sub_sub\n",
    "                print('prod2',prod2)\n",
    "        if prod1 > 0 and prod2 > 0:\n",
    "            break\n",
    "assert prod1 == 1005459\n",
    "assert prod2 == 92643264"
   ]
  },
  {
   "cell_type": "code",
   "execution_count": null,
   "metadata": {},
   "outputs": [],
   "source": []
  }
 ]
}