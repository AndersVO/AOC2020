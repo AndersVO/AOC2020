{
 "metadata": {
  "language_info": {
   "codemirror_mode": {
    "name": "ipython",
    "version": 3
   },
   "file_extension": ".py",
   "mimetype": "text/x-python",
   "name": "python",
   "nbconvert_exporter": "python",
   "pygments_lexer": "ipython3",
   "version": "3.6.5-final"
  },
  "orig_nbformat": 2,
  "kernelspec": {
   "name": "python3",
   "display_name": "Python 3"
  }
 },
 "nbformat": 4,
 "nbformat_minor": 2,
 "cells": [
  {
   "cell_type": "code",
   "execution_count": 14,
   "metadata": {},
   "outputs": [
    {
     "output_type": "stream",
     "name": "stdout",
     "text": [
      "[20, 90] [889, 1131] 1005459\n[90, 20] [1131, 889] 1005459\n"
     ]
    }
   ],
   "source": [
    "# Import data\n",
    "f = open('C:\\git\\AOC2020\\DATJA\\day1.txt', 'r')\n",
    "\n",
    "expense = f.readlines()\n",
    "\n",
    "for i_main, val_main in enumerate(expense):\n",
    "    for i_sub, val_sub in enumerate(expense):\n",
    "        val_main = int(val_main)\n",
    "        val_sub = int(val_sub)\n",
    "        sum_val = val_main + val_sub\n",
    "        if sum_val == 2020:\n",
    "            res_idx = [i_main,i_sub]\n",
    "            res_val = [val_main,val_sub]\n",
    "            prod_val = val_sub * val_main\n",
    "            print(res_idx, res_val, prod_val)\n",
    "            continue"
   ]
  }
 ]
}