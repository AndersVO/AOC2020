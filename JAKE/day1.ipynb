{
 "metadata": {
  "language_info": {
   "codemirror_mode": {
    "name": "ipython",
    "version": 3
   },
   "file_extension": ".py",
   "mimetype": "text/x-python",
   "name": "python",
   "nbconvert_exporter": "python",
   "pygments_lexer": "ipython3",
   "version": "3.6.5-final"
  },
  "orig_nbformat": 2,
  "kernelspec": {
   "name": "python3",
   "display_name": "Python 3"
  }
 },
 "nbformat": 4,
 "nbformat_minor": 2,
 "cells": [
  {
   "cell_type": "code",
   "execution_count": 15,
   "metadata": {},
   "outputs": [
    {
     "output_type": "stream",
     "name": "stdout",
     "text": [
      "sum2 [20, 90, 199] [889, 1131, 1812] 1821891708\n",
      "sum2 [90, 20, 199] [1131, 889, 1812] 1821891708\n",
      "sum3 [123, 131, 152] [1242, 112, 666] 92643264\n",
      "sum3 [123, 152, 131] [1242, 666, 112] 92643264\n",
      "sum3 [131, 123, 152] [112, 1242, 666] 92643264\n",
      "sum3 [131, 152, 123] [112, 666, 1242] 92643264\n",
      "sum3 [152, 123, 131] [666, 1242, 112] 92643264\n",
      "sum3 [152, 131, 123] [666, 112, 1242] 92643264\n"
     ]
    }
   ],
   "source": [
    "# Import data\n",
    "f = open('C:\\git\\AOC2020\\DATJA\\day1.txt', 'r')\n",
    "\n",
    "expense = f.readlines()\n",
    "\n",
    "for i_main, val_main in enumerate(expense):\n",
    "    for i_sub, val_sub in enumerate(expense):\n",
    "        val_main = int(val_main)\n",
    "        val_sub = int(val_sub)\n",
    "        sum_val = val_main + val_sub\n",
    "        if sum_val == 2020:\n",
    "                res_idx = [i_main,i_sub]\n",
    "                res_val = [val_main,val_sub]\n",
    "                prod_val = val_sub * val_main\n",
    "                print('sum2',res_idx, res_val, prod_val)\n",
    "        for i_sub_sub, val_sub_sub in enumerate(expense):\n",
    "            val_sub_sub = int(val_sub_sub)\n",
    "            sum_val = val_main + val_sub + val_sub_sub\n",
    "            if sum_val == 2020:\n",
    "                res_idx = [i_main,i_sub,i_sub_sub]\n",
    "                res_val = [val_main,val_sub,val_sub_sub]\n",
    "                prod_val = val_sub * val_main * val_sub_sub\n",
    "                print('sum3',res_idx, res_val, prod_val)"
   ]
  }
 ]
}