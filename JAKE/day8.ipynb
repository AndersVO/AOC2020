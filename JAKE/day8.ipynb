{
 "metadata": {
  "language_info": {
   "codemirror_mode": {
    "name": "ipython",
    "version": 3
   },
   "file_extension": ".py",
   "mimetype": "text/x-python",
   "name": "python",
   "nbconvert_exporter": "python",
   "pygments_lexer": "ipython3",
   "version": "3.9.1-final"
  },
  "orig_nbformat": 2,
  "kernelspec": {
   "name": "python3",
   "display_name": "Python 3.9.1 64-bit",
   "metadata": {
    "interpreter": {
     "hash": "63fd5069d213b44bf678585dea6b12cceca9941eaf7f819626cde1f2670de90d"
    }
   }
  }
 },
 "nbformat": 4,
 "nbformat_minor": 2,
 "cells": [
  {
   "cell_type": "code",
   "execution_count": 12,
   "metadata": {
    "tags": []
   },
   "outputs": [
    {
     "output_type": "stream",
     "name": "stdout",
     "text": [
      "[['nop', '+0'], ['acc', '+1'], ['jmp', '+4'], ['acc', '+3'], ['jmp', '-3'], ['acc', '-99'], ['acc', '+1'], ['jmp', '-4'], ['acc', '+6']]\n"
     ]
    }
   ],
   "source": [
    "import re\n",
    "\n",
    "filename = 'C:\\git\\AOC2020\\DATJA\\day8test.txt'\n",
    "\n",
    "def accumulate(value, acc):\n",
    "    if value[0] == '-':\n",
    "        acc -= value[1]\n",
    "    elif value[0] == '+':\n",
    "        acc += value[1]\n",
    "    return acc\n",
    "\n",
    "def jump(value, idx)\n",
    "    if value[0] == '-':\n",
    "        idx -= value[1]\n",
    "    elif value[0] == '+':\n",
    "        idx += value[1]\n",
    "    return idx\n",
    "\n",
    "def executeCommands(commands):\n",
    "    idx = 0\n",
    "    acc = 0\n",
    "    for command in commands:\n",
    "        if command[0] == 'nop':\n",
    "            idx += 1\n",
    "        elif command[0] == 'acc':\n",
    "            acc = accumulate(command[1], acc)\n",
    "            idx += 1\n",
    "        elif command[0] == 'jmp':\n",
    "            idx = jump(command[1], idx)\n",
    "\n",
    "\n",
    "with open(filename, encoding='utf8') as f:\n",
    "    commands = [re.split(' |\\n',line) for line in f]\n",
    "\n",
    "commands = [list(filter(None, lst)) for lst in commands]\n",
    "print(commands)\n",
    "\n"
   ]
  }
 ]
}