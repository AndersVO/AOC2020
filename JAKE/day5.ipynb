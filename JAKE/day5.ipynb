{
 "metadata": {
  "language_info": {
   "codemirror_mode": {
    "name": "ipython",
    "version": 3
   },
   "file_extension": ".py",
   "mimetype": "text/x-python",
   "name": "python",
   "nbconvert_exporter": "python",
   "pygments_lexer": "ipython3",
   "version": "3.6.5-final"
  },
  "orig_nbformat": 2,
  "kernelspec": {
   "name": "python3",
   "display_name": "Python 3"
  }
 },
 "nbformat": 4,
 "nbformat_minor": 2,
 "cells": [
  {
   "cell_type": "code",
   "execution_count": 67,
   "metadata": {},
   "outputs": [
    {
     "output_type": "stream",
     "name": "stdout",
     "text": [
      "Highest seat id  951\n524\nMy seat  653\n"
     ]
    }
   ],
   "source": [
    "import numpy as np\n",
    "\n",
    "filename = 'C:\\git\\AOC2020\\DATJA\\day5.txt'\n",
    "\n",
    "with open(filename, encoding='utf8') as f:\n",
    "    boarding_pass_list = [line.rstrip('\\n') for line in f]\n",
    "seat_row_all = []\n",
    "seat_col_all = []\n",
    "seat_id_all = []\n",
    "for i, boarding_pass in enumerate(boarding_pass_list):\n",
    "    seat_row = list(range(128))\n",
    "    seat_col = list(range(8))\n",
    "    for letter in boarding_pass:\n",
    "        half_len_row = int(len(seat_row) / 2)\n",
    "        half_len_col = int(len(seat_col) / 2)\n",
    "        if letter == 'F':\n",
    "            seat_row = seat_row[0:(half_len_row)]\n",
    "        elif letter == 'B':\n",
    "            seat_row = seat_row[half_len_row::]\n",
    "        elif letter == 'R':\n",
    "            seat_col = seat_col[half_len_col::]\n",
    "        elif letter == 'L':\n",
    "            seat_col = seat_col[0:(half_len_col)]\n",
    "    seat_row_all.append(seat_row)\n",
    "    seat_col_all.append(seat_col)\n",
    "    seat_id_all.append(seat_row[0] * 8 + seat_col[0])\n",
    "\n",
    "print('Highest seat id ', max(seat_id_all))\n",
    "assert max(seat_id_all) == 951\n",
    "\n",
    "# part b\n",
    "seat_id_all = sorted(seat_id_all)\n",
    "all_seats = range(128)\n",
    "available_seats = np.array(list(set(seat_id_all) - set(all_seats)))\n",
    "seat_idx = np.where(np.diff(available_seats) == 2)\n",
    "seat_idx = seat_idx[0][0]\n",
    "print(seat_idx)\n",
    "my_seat = available_seats[seat_idx] + 1\n",
    "print('My seat ', my_seat)\n",
    "assert my_seat == 653"
   ]
  }
 ]
}