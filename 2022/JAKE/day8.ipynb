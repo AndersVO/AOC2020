{
 "cells": [
  {
   "cell_type": "code",
   "execution_count": 26,
   "metadata": {},
   "outputs": [
    {
     "name": "stdout",
     "output_type": "stream",
     "text": [
      "5 5\n",
      "Tree index  5\n",
      "[0] [5 3 5] [2] [5 1 2]\n",
      "[-5] [ 0 -2  0] [-3] [ 0 -4 -3]\n",
      "1 1 1 1\n",
      "Tree index  5\n",
      "[0 5] [3 5] [6] [3 3 2]\n",
      "[-5  0] [-2  0] [1] [-2 -2 -3]\n",
      "1 2 1 3\n",
      "Tree index  3\n",
      "[0 5 5] [5] [3] [5 4 9]\n",
      "[-3  2  2] [2] [0] [2 1 6]\n",
      "1 1 1 1\n",
      "Tree index  5\n",
      "[3] [3 5 3] [2 5] [1 2]\n",
      "[-2] [-2  0 -2] [-3  0] [-4 -3]\n",
      "1 2 1 2\n",
      "Tree index  3\n",
      "[3 5] [5 3] [6 5] [3 2]\n",
      "[0 2] [2 0] [3 2] [ 0 -1]\n",
      "1 1 1 1\n",
      "Tree index  5\n",
      "[3 5 3] [3] [3 3] [4 9]\n",
      "[-2  0 -2] [-2] [-2 -2] [-1  4]\n",
      "2 1 2 2\n",
      "Tree index  1\n",
      "[7] [3 4 9] [2 5 5] [2]\n",
      "[6] [2 3 8] [1 4 4] [1]\n",
      "1 1 1 1\n",
      "Tree index  3\n",
      "[7 1] [4 9] [6 5 3] [2]\n",
      "[ 4 -2] [1 6] [3 2 0] [-1]\n",
      "2 1 1 1\n",
      "Tree index  4\n",
      "[7 1 3] [9] [3 3 5] [9]\n",
      "[ 3 -3 -1] [5] [-1 -1  1] [5]\n",
      "3 1 1 1\n",
      "5\n",
      "21\n",
      "8 [3, 2]\n"
     ]
    }
   ],
   "source": [
    "def print_ele(test_list):\n",
    "    new_list = []\n",
    "    for ele in test_list:\n",
    "        if ele < 0:\n",
    "            new_list.append(ele)\n",
    "        elif ele >= 0:\n",
    "            new_list.append(ele)\n",
    "            return len(new_list)\n",
    "    return len(new_list)\n",
    "\n",
    "import numpy as np\n",
    "import itertools\n",
    "data = [list(line.strip()) for line in open(\"C:\\git\\AOC2020/2022\\DATJA\\day8test.txt\", 'r')]\n",
    "data = [[int(x) for x in y ]for y in data]\n",
    "data = np.array(data)\n",
    "# print(data)\n",
    "n_rows = len(data)\n",
    "n_cols = len(data[0])\n",
    "print(n_cols, n_rows)\n",
    "n_visible_trees = 0\n",
    "highest = 0\n",
    "for tree_idx_col in range(1,n_cols-1):\n",
    "    for tree_idx_row in range(1,n_rows-1):\n",
    "        current_tree = data[tree_idx_row,tree_idx_col]\n",
    "        # print('Tree index ', data[tree_idx_row,tree_idx_col])\n",
    "        # above, left, right, below\n",
    "        up, down = data[0:tree_idx_row,tree_idx_col], data[tree_idx_row+1::, tree_idx_col]\n",
    "        left, right = data[tree_idx_row,0:tree_idx_col], data[tree_idx_row,tree_idx_col+1::]\n",
    "\n",
    "        height_diff_up, height_diff_down, height_diff_left, height_diff_right = up - current_tree, down - current_tree, left - current_tree, right - current_tree\n",
    "        sight_up, sight_down, sight_left, sight_right  = print_ele(height_diff_up[::-1]), print_ele(height_diff_down), print_ele(height_diff_left[::-1]), print_ele(height_diff_right)\n",
    "        # print(up, down, left, right)\n",
    "        # print(height_diff_up, height_diff_down, height_diff_left, height_diff_right)\n",
    "        # print(sight_up, sight_down, sight_left, sight_right)\n",
    "        total_sight = sight_up * sight_down * sight_left * sight_right\n",
    "        if total_sight > highest:\n",
    "            highest, idx = total_sight, [tree_idx_row,tree_idx_col]\n",
    "        surrounding_trees = [up, left, right, down]\n",
    "        if any(([all(i < current_tree) for i in surrounding_trees])):\n",
    "           n_visible_trees += 1\n",
    "\n",
    "print(n_visible_trees)\n",
    "print(n_visible_trees + n_cols*2 + 2*n_rows -4)\n",
    "\n",
    "print(highest, idx)"
   ]
  },
  {
   "cell_type": "code",
   "execution_count": null,
   "metadata": {},
   "outputs": [],
   "source": []
  }
 ],
 "metadata": {
  "kernelspec": {
   "display_name": "Python 3.10.9 64-bit",
   "language": "python",
   "name": "python3"
  },
  "language_info": {
   "codemirror_mode": {
    "name": "ipython",
    "version": 3
   },
   "file_extension": ".py",
   "mimetype": "text/x-python",
   "name": "python",
   "nbconvert_exporter": "python",
   "pygments_lexer": "ipython3",
   "version": "3.10.9"
  },
  "orig_nbformat": 4,
  "vscode": {
   "interpreter": {
    "hash": "369f2c481f4da34e4445cda3fffd2e751bd1c4d706f27375911949ba6bb62e1c"
   }
  }
 },
 "nbformat": 4,
 "nbformat_minor": 2
}
