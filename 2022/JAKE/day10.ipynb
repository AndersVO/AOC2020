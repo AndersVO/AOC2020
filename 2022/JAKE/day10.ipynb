{
 "cells": [
  {
   "cell_type": "code",
   "execution_count": 46,
   "metadata": {},
   "outputs": [
    {
     "name": "stdout",
     "output_type": "stream",
     "text": [
      "\n",
      "####...##..##..####.###...##..#....#..#.\n",
      "#.......#.#..#.#....#..#.#..#.#....#..#.\n",
      "###.....#.#....###..#..#.#....#....####.\n",
      "#.......#.#....#....###..#.##.#....#..#.\n",
      "#....#..#.#..#.#....#....#..#.#....#..#.\n",
      "####..##...##..#....#.....###.####.#..#.\n",
      "11960\n"
     ]
    }
   ],
   "source": [
    "import numpy as np\n",
    "def read_data_line(data):\n",
    "    data = f.readline().split(' ')\n",
    "    instruction = data[0].strip()\n",
    "    if instruction:\n",
    "        val = 0\n",
    "        if len(data) == 2:\n",
    "            val = int(data[1].strip())\n",
    "        return instruction, val\n",
    "    return instruction, 'done'\n",
    "\n",
    "\n",
    "f = open(\"C:\\git\\AOC2020/2022\\DATJA\\day10.txt\", 'r')\n",
    "command_done = 0\n",
    "cycle_count = 0\n",
    "hold_read = 0\n",
    "X = 1\n",
    "total_signal_strength = 0\n",
    "sprite_position = '###' + '.'*37\n",
    "sprite_position_idx = np.array([0, 1, 2])\n",
    "crt_position = 0\n",
    "crt_row = ''\n",
    "crt_row_all = []\n",
    "print(crt_row)\n",
    "\n",
    "while command_done == 0:\n",
    "    cycle_count += 1\n",
    "    if hold_read == 0:\n",
    "        instruction, val = read_data_line(f)\n",
    "    # Start cycle\n",
    "    if val == 'done':\n",
    "        command_done = 1\n",
    "    else:\n",
    "        match instruction:\n",
    "            case 'addx':\n",
    "                # add stuff\n",
    "                hold_read += 1\n",
    "            # case 'noop':\n",
    "                # do nothing\n",
    "        # During cycle\n",
    "        if crt_position in sprite_position_idx:\n",
    "            crt_row += '#'\n",
    "        else:\n",
    "            crt_row += '.'\n",
    "        if cycle_count in [20, 60, 100, 140, 180, 220]: # Part A\n",
    "            # print(X*cycle_count)\n",
    "            total_signal_strength += X*cycle_count\n",
    "        # After cycle\n",
    "        if hold_read == 2:\n",
    "            # print('val',val)\n",
    "            X += val\n",
    "            sprite_position_idx = sprite_position_idx + val\n",
    "            # print('sprite_position_idx',sprite_position_idx)\n",
    "            hold_read = 0\n",
    "        crt_position += 1\n",
    "        if crt_position == 40:\n",
    "            crt_row_all.append(crt_row)\n",
    "            crt_position = 0\n",
    "            crt_row = ''\n",
    "for row in crt_row_all:\n",
    "    print(row)\n",
    "print(total_signal_strength)"
   ]
  },
  {
   "cell_type": "code",
   "execution_count": null,
   "metadata": {},
   "outputs": [],
   "source": []
  }
 ],
 "metadata": {
  "kernelspec": {
   "display_name": "Python 3.10.9 64-bit",
   "language": "python",
   "name": "python3"
  },
  "language_info": {
   "codemirror_mode": {
    "name": "ipython",
    "version": 3
   },
   "file_extension": ".py",
   "mimetype": "text/x-python",
   "name": "python",
   "nbconvert_exporter": "python",
   "pygments_lexer": "ipython3",
   "version": "3.10.9"
  },
  "orig_nbformat": 4,
  "vscode": {
   "interpreter": {
    "hash": "369f2c481f4da34e4445cda3fffd2e751bd1c4d706f27375911949ba6bb62e1c"
   }
  }
 },
 "nbformat": 4,
 "nbformat_minor": 2
}
