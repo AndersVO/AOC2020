{
 "cells": [
  {
   "cell_type": "code",
   "execution_count": 88,
   "metadata": {},
   "outputs": [
    {
     "name": "stdout",
     "output_type": "stream",
     "text": [
      "2478\n"
     ]
    }
   ],
   "source": [
    "import numpy as np\n",
    "\n",
    "def move_in_direction(direction, current_posistion):\n",
    "    new_posistion = current_posistion\n",
    "    match direction:\n",
    "        case 'R': # Move right\n",
    "            new_posistion[0] = current_posistion[0] + 1\n",
    "        case 'L': # Move right\n",
    "            new_posistion[0] = current_posistion[0] - 1\n",
    "        case 'U': # Move right\n",
    "            new_posistion[1] = current_posistion[1] + 1\n",
    "        case 'D': # Move right\n",
    "            new_posistion[1] = current_posistion[1] - 1\n",
    "    return new_posistion\n",
    "\n",
    "def move_tail(head_posistion, tail_position, tail_trace):\n",
    "    new_tail_posistion = tail_position\n",
    "    diff_position = head_posistion - tail_position\n",
    "    for coor,idx in zip(diff_position,range(2)):\n",
    "        if any(abs(diff_position) == 2) and any(abs(diff_position) == 1):\n",
    "            new_tail_posistion[idx] = tail_position[idx] + np.sign(diff_position[idx])*1\n",
    "        elif abs(coor) > 1:\n",
    "            new_tail_posistion[idx] = tail_position[idx] + np.sign(diff_position[idx])*1\n",
    "    str_position = np.array2string(new_tail_posistion)\n",
    "    if np.array2string(new_tail_posistion) in tail_trace.keys():\n",
    "        tail_trace[str_position] += 1\n",
    "    else:\n",
    "        tail_trace[str_position] = 0\n",
    "    return new_tail_posistion, tail_trace\n",
    "\n",
    "data = open(\"C:\\git\\AOC2020/2022\\DATJA\\day9.txt\", 'r')\n",
    "\n",
    "n_knots = 9\n",
    "position_head = np.array([0,0])\n",
    "position_tail = np.zeros((2,n_knots))\n",
    "knot_trace = {}\n",
    "tail_trace = {}\n",
    "for move in data:\n",
    "    move_split = move.split(' ')\n",
    "    steps = int(move_split[1])\n",
    "    direction = move_split[0]\n",
    "    for step in range(steps):\n",
    "        position_head = move_in_direction(direction, position_head)\n",
    "        for knot in range(n_knots):\n",
    "            if knot == 0:\n",
    "                position_tail[:,knot], knot_trace = move_tail(position_head, position_tail[:,knot], knot_trace)\n",
    "            elif knot == 8:\n",
    "                position_tail[:,knot], tail_trace = move_tail(position_tail[:,knot-1], position_tail[:,knot], tail_trace)\n",
    "            else:\n",
    "                position_tail[:,knot], knot_trace = move_tail(position_tail[:,knot-1], position_tail[:,knot], knot_trace)\n",
    "print(len(tail_trace))\n",
    "\n"
   ]
  },
  {
   "cell_type": "code",
   "execution_count": null,
   "metadata": {},
   "outputs": [],
   "source": []
  }
 ],
 "metadata": {
  "kernelspec": {
   "display_name": "Python 3.10.9 64-bit",
   "language": "python",
   "name": "python3"
  },
  "language_info": {
   "codemirror_mode": {
    "name": "ipython",
    "version": 3
   },
   "file_extension": ".py",
   "mimetype": "text/x-python",
   "name": "python",
   "nbconvert_exporter": "python",
   "pygments_lexer": "ipython3",
   "version": "3.10.9"
  },
  "orig_nbformat": 4,
  "vscode": {
   "interpreter": {
    "hash": "369f2c481f4da34e4445cda3fffd2e751bd1c4d706f27375911949ba6bb62e1c"
   }
  }
 },
 "nbformat": 4,
 "nbformat_minor": 2
}
