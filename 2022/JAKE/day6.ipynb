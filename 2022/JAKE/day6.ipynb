{
 "cells": [
  {
   "cell_type": "code",
   "execution_count": 128,
   "metadata": {
    "tags": []
   },
   "outputs": [
    {
     "name": "stdout",
     "output_type": "stream",
     "text": [
      "['1', 'F', 'H', 'B', 'V', 'R', 'Q', 'D', 'P']\n",
      "['2', 'L', 'D', 'Z', 'Q', 'W', 'V', ' ', ' ']\n",
      "['3', 'H', 'L', 'Z', 'Q', 'G', 'R', 'P', 'C']\n",
      "['4', 'R', 'D', 'H', 'F', 'J', 'V', 'B', ' ']\n",
      "['5', 'Z', 'W', 'L', 'C', ' ', ' ', ' ', ' ']\n",
      "['6', 'J', 'R', 'P', 'N', 'T', 'G', 'V', 'M']\n",
      "['7', 'J', 'R', 'L', 'V', 'M', 'B', 'S', ' ']\n",
      "['8', 'D', 'P', 'J', ' ', ' ', ' ', ' ', ' ']\n",
      "['9', 'D', 'C', 'N', 'W', 'V', ' ', ' ', ' ']\n",
      "['1', 'F', 'H', 'B', 'V', 'R', 'Q', 'D', 'P']\n",
      "['2', 'L', 'D', 'Z', 'Q', 'W', 'V', ' ', ' ']\n",
      "['3', 'H', 'L', 'Z', 'Q', 'G', 'R', 'P', 'C']\n",
      "['4', 'R', 'D', 'H', 'F', 'J', 'V', 'B', ' ']\n",
      "['5', 'Z', 'W', 'L', 'C', ' ', ' ', ' ', ' ']\n",
      "['6', 'J', 'R', 'P', 'N', 'T', 'G', 'V', 'M']\n",
      "['7', 'J', 'R', 'L', 'V', 'M', 'B', 'S', ' ']\n",
      "['8', 'D', 'P', 'J', ' ', ' ', ' ', ' ', ' ']\n",
      "['9', 'D', 'C', 'N', 'W', 'V', ' ', ' ', ' ']\n",
      "['1', 'F', 'H', 'B', 'V', 'R', 'Q', 'D', 'P']\n",
      "['2', 'L', 'D', 'Z', 'Q', 'W', 'V', ' ', ' ']\n",
      "['3', 'H', 'L', 'Z', 'Q', 'G', 'R', 'P', 'C']\n",
      "['4', 'R', 'D', 'H', 'F', 'J', 'V', 'B', ' ']\n",
      "['5', 'Z', 'W', 'L', 'C', ' ', ' ', ' ', ' ']\n",
      "['6', 'J', 'R', 'P', 'N', 'T', 'G', 'V', 'M']\n",
      "['7', 'J', 'R', 'L', 'V', 'M', 'B', 'S', ' ']\n",
      "['8', 'D', 'P', 'J', ' ', ' ', ' ', ' ', ' ']\n",
      "['9', 'D', 'C', 'N', 'W', 'V', ' ', ' ', ' ']\n",
      "[['D', 'R', 'V', 'Z', 'G', 'V', 'V', 'B', 'D', 'P', 'S', 'H', 'L', 'R', 'R', 'V', 'J'], ['H', 'L', 'Q', 'P', 'H', 'Q', 'D'], ['F', 'V', 'N', 'N', 'Z', 'T'], ['M'], ['M', 'G', 'P', 'R'], ['W'], ['L', 'C'], ['Q'], ['W', 'J', 'C', 'W', 'F', 'R', 'B', 'V', 'J', 'Z', 'L', 'C', 'B', 'D', 'D', 'P', 'J']]\n",
      "[['D', 'R', 'V', 'Z', 'G', 'V', 'V', 'B', 'D', 'P', 'S', 'H', 'L', 'R', 'R', 'V', 'J'], ['H', 'L', 'Q', 'P', 'H', 'Q', 'D'], ['F', 'V', 'N', 'N', 'Z', 'T'], ['M'], ['M', 'G', 'P', 'R'], ['W'], ['L', 'C'], ['Q'], ['W', 'J', 'C', 'W', 'F', 'R', 'B', 'V', 'J', 'Z', 'L', 'C', 'B', 'D', 'D', 'P', 'J']]\n",
      "JDTMRWCQJ\n",
      "[['L', 'R', 'L', 'Z', 'Q', 'G', 'D', 'M', 'V', 'V', 'P', 'R', 'Z', 'Z', 'R', 'Q', 'V'], ['V', 'B', 'N', 'P', 'V', 'H', 'H'], ['N', 'D', 'C', 'F', 'F', 'J'], ['D'], ['J', 'B', 'R', 'D'], ['C'], ['P', 'W'], ['R'], ['T', 'H', 'Q', 'B', 'V', 'L', 'W', 'M', 'C', 'G', 'L', 'J', 'W', 'S', 'J', 'P', 'D']]\n",
      "VHJDDCWRD\n"
     ]
    }
   ],
   "source": [
    "def transposeStacks(stacks, s_id):\n",
    "    stacks = []\n",
    "    for values in s_id.values():\n",
    "        stack = [row[int(values)] for row in stacks_vertical]\n",
    "        stack = list(reversed(stack))\n",
    "        print(stack)\n",
    "        stack = ' '.join(stack).split()\n",
    "        stacks.append(stack[1:])\n",
    "    \n",
    "    return stacks\n",
    "\n",
    "def getStackID(stacks):\n",
    "    stack_ID = {}\n",
    "    count = 0\n",
    "    no_more_stacks = 0\n",
    "    while no_more_stacks == 0:\n",
    "        count += 1\n",
    "        try:\n",
    "            stack_index = stacks[-1].index(str(count))\n",
    "            stack_ID[str(stacks[-1][stack_index])] = stack_index\n",
    "        except:\n",
    "            no_more_stacks = 1\n",
    "    \n",
    "    return stack_ID\n",
    "\n",
    "def extractInstructions(instructions):\n",
    "    instr_list = []\n",
    "    for instr in instructions:\n",
    "        instr_list.append([int(s) for s in re.findall(r'\\d+', instr)])\n",
    "    return instr_list\n",
    "\n",
    "import re\n",
    "import numpy as np\n",
    "# Import data\n",
    "f = open('C:\\git\\AOC2020/2022\\DATJA\\day5.txt', 'r')\n",
    "lines = f.readlines()\n",
    "split_index = lines.index('\\n')\n",
    "stacks_vertical = lines[:split_index]\n",
    "instructions = lines[split_index+1:]\n",
    "instr_list = extractInstructions(instructions)\n",
    "stack_id = getStackID(stacks_vertical)\n",
    "stacks_a = transposeStacks(stacks_vertical,stack_id)\n",
    "stacks_b = transposeStacks(stacks_vertical,stack_id)\n",
    "for instr in instr_list:\n",
    "    stacks_a[instr[2]-1] += list(reversed(stacks_a[instr[1]-1][-instr[0]:]))\n",
    "    stacks_b[instr[2]-1] += list(stacks_b[instr[1]-1][-instr[0]:])\n",
    "    del stacks_a[instr[1]-1][-instr[0]:]\n",
    "    del stacks_b[instr[1]-1][-instr[0]:]\n",
    "\n",
    "print(stacks_a)\n",
    "last_crates_a = [x[-1] for x in stacks_a]\n",
    "print(stacks_a)\n",
    "print(''.join(last_crates_a))\n",
    "last_crates_b = [x[-1] for x in stacks_b]\n",
    "print(stacks_b)\n",
    "print(''.join(last_crates_b))"
   ]
  },
  {
   "cell_type": "code",
   "execution_count": null,
   "metadata": {},
   "outputs": [],
   "source": []
  }
 ],
 "metadata": {
  "kernelspec": {
   "display_name": "Python 3.9.6 64-bit",
   "language": "python",
   "name": "python3"
  },
  "language_info": {
   "codemirror_mode": {
    "name": "ipython",
    "version": 3
   },
   "file_extension": ".py",
   "mimetype": "text/x-python",
   "name": "python",
   "nbconvert_exporter": "python",
   "pygments_lexer": "ipython3",
   "version": "3.9.6"
  },
  "orig_nbformat": 2,
  "vscode": {
   "interpreter": {
    "hash": "81794d4967e6c3204c66dcd87b604927b115b27c00565d3d43f05ba2f3a2cb0d"
   }
  }
 },
 "nbformat": 4,
 "nbformat_minor": 2
}
