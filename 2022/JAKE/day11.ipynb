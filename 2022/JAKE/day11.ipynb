{
 "cells": [
  {
   "cell_type": "code",
   "execution_count": 5,
   "metadata": {},
   "outputs": [
    {
     "name": "stdout",
     "output_type": "stream",
     "text": [
      "Monkey 0 inspected items 123733 times\n",
      "Monkey 1 inspected items 112466 times\n",
      "Monkey 2 inspected items 101233 times\n",
      "Monkey 3 inspected items 11268 times\n",
      "Monkey 4 inspected items 112470 times\n",
      "Monkey 5 inspected items 22524 times\n",
      "Monkey 6 inspected items 123741 times\n",
      "Monkey 7 inspected items 11285 times\n",
      "15310845153\n"
     ]
    }
   ],
   "source": [
    "import re\n",
    "import math\n",
    "# import sys module\n",
    "import sys\n",
    "# tell interpreter where to look\n",
    "sys.path.insert(0,\"..\")\n",
    "from UTILS.day11 import monkey\n",
    "\n",
    "def prep_data(data):\n",
    "    new_data = []\n",
    "    monkey_number = 0\n",
    "    for line in data:\n",
    "        words = line.split()\n",
    "        if words:\n",
    "            match words[0]:\n",
    "                case 'Monkey':\n",
    "                    monkey_number = int(words[1][:-1])\n",
    "                case 'Starting':\n",
    "                    items = [re.findall(r'\\d+', word) for word in words[2::]]\n",
    "                    items = [int(item[0]) for item in items]\n",
    "                case 'Operation:':\n",
    "                    operation = ''.join(words[3::])\n",
    "                case 'Test:':\n",
    "                    test_val = int(words[-1])\n",
    "                case 'If':\n",
    "                    if words[1] == 'true:':\n",
    "                        test_true = int(words[-1])\n",
    "                    elif words[1] == 'false:':\n",
    "                        test_false = int(words[-1])\n",
    "                        new_data.append(monkey(monkey_number, items, operation, test_val, test_true, test_false, 0))\n",
    "    return new_data\n",
    "# f = open(\"C:\\git\\AOC2020/2022\\DATJA\\day10.txt\", 'r')\n",
    "\n",
    "data = [line.strip('\\n\\n') for line in open(\"C:\\git\\AOC2020/2022\\DATJA\\day11.txt\", 'r')]\n",
    "monkeys = prep_data(data)\n",
    "\n",
    "n_rounds = 10000\n",
    "wl_level_mgmt = 0\n",
    "for round in range(n_rounds):\n",
    "    for i_monkey in monkeys:\n",
    "        n_items = len(i_monkey.items)\n",
    "        for item in range(n_items):\n",
    "            i_monkey.inspect()\n",
    "            wl_level_mgmt = math.prod([m.test_val for m in monkeys])\n",
    "            # i_monkey.done_inspection(wl_level_mgmt)\n",
    "            i_monkey.done_inspection_B(wl_level_mgmt)\n",
    "            to_monkey = i_monkey.test()\n",
    "            monkeys[to_monkey].grab_item(i_monkey.throw_item())\n",
    "    \n",
    "inspections = []\n",
    "for i_monkey in monkeys:\n",
    "    i_monkey.show_inspections()\n",
    "    n_inspects = i_monkey.get_inspections()\n",
    "    inspections.append(n_inspects)\n",
    "sorted_inspections = sorted(inspections, reverse=True)\n",
    "most_inspections = sorted_inspections[0:2]\n",
    "print(most_inspections[0]*most_inspections[1])\n"
   ]
  },
  {
   "cell_type": "code",
   "execution_count": 7,
   "metadata": {},
   "outputs": [
    {
     "name": "stdout",
     "output_type": "stream",
     "text": [
      "72884\n",
      "15310845153\n"
     ]
    }
   ],
   "source": [
    "d=[x for x in open(\"C:\\git\\AOC2020/2022\\DATJA\\day11.txt\").read().splitlines()]\n",
    "o=[(d[x][23:])for x in range(2,len(d),7)]\n",
    "t=[int(d[x][21:])for x in range(3,len(d),7)]\n",
    "c=[[int(d[x][29:]),int(d[x+1][30:])]for x in range(4,len(d),7)]\n",
    "m=eval('*'.join(str(x)for x in t))\n",
    "for p in [20, 10000]:\n",
    " s=[[[int(x)for x in(d[y][18:]).split(\", \")]for y in range(1,len(d),7)]][0]\n",
    " n=[0]*len(t)\n",
    " for _ in range(p):\n",
    "  for i in range(len(n)):\n",
    "   for j in range(0,len(s[i])):\n",
    "    x=s[i][j]\n",
    "    if o[i]==\"* old\":x*=x\n",
    "    elif o[i][:2]in[\"* \",\"+ \"]:x=eval(str(x)+o[i])\n",
    "    x=x//3 if p==20 else x%m\n",
    "    if x%t[i]==0:s[c[i][0]].append(x)\n",
    "    else:s[c[i][1]].append(x)  \n",
    "    n[i]+=1\n",
    "   s[i]=[]\n",
    " print(max(n)*sorted(n)[-2])"
   ]
  },
  {
   "cell_type": "code",
   "execution_count": 8,
   "metadata": {},
   "outputs": [
    {
     "name": "stdout",
     "output_type": "stream",
     "text": [
      "Part 1: 72884\n",
      "Part 2: 15310845153\n"
     ]
    }
   ],
   "source": [
    "import math\n",
    "\n",
    "def solve(rounds):\n",
    "    items = [[[int(x) for x in (data[y][18:]).split(\", \")] for y in range(1, len(data), 7)]][0]\n",
    "    n = [0] * len(divs)\n",
    "    for _ in range(rounds):\n",
    "        for i in range(len(n)):\n",
    "            for j in range(0, len(items[i])):\n",
    "                x = items[i][j]\n",
    "                if ops[i] == \"* old\":\n",
    "                    x *= x\n",
    "                else:\n",
    "                    op, val = ops[i].split()\n",
    "                    x = x + int(val) if op == \"+\" else x * int(val)\n",
    "                x = x // 3 if rounds == 20 else x % M\n",
    "                if x % divs[i] == 0:\n",
    "                    items[friends[i][0]].append(x)\n",
    "                else:\n",
    "                    items[friends[i][1]].append(x)\n",
    "                n[i] += 1\n",
    "            items[i] = []\n",
    "    return max(n) * sorted(n)[-2]\n",
    "\n",
    "data = open(\"C:\\git\\AOC2020/2022\\DATJA\\day11.txt\").read().strip().split(\"\\n\")\n",
    "ops = [(\" \".join(data[x].split(\"= \")[-1].split()[1:])) for x in range(2, len(data), 7)]\n",
    "divs = [int(data[x][21:]) for x in range(3, len(data), 7)]\n",
    "friends = [[int(data[x].split()[-1]), int(data[x + 1].split()[-1])] for x in range(4, len(data), 7)]\n",
    "M = math.prod(divs)\n",
    "print(f\"Part 1: {solve(20)}\")\n",
    "print(f\"Part 2: {solve(10000)}\")"
   ]
  }
 ],
 "metadata": {
  "kernelspec": {
   "display_name": "Python 3.10.9 64-bit",
   "language": "python",
   "name": "python3"
  },
  "language_info": {
   "codemirror_mode": {
    "name": "ipython",
    "version": 3
   },
   "file_extension": ".py",
   "mimetype": "text/x-python",
   "name": "python",
   "nbconvert_exporter": "python",
   "pygments_lexer": "ipython3",
   "version": "3.10.9"
  },
  "orig_nbformat": 4,
  "vscode": {
   "interpreter": {
    "hash": "369f2c481f4da34e4445cda3fffd2e751bd1c4d706f27375911949ba6bb62e1c"
   }
  }
 },
 "nbformat": 4,
 "nbformat_minor": 2
}
