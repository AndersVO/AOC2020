{
 "cells": [
  {
   "cell_type": "code",
   "execution_count": 27,
   "metadata": {},
   "outputs": [
    {
     "name": "stdout",
     "output_type": "stream",
     "text": [
      "['$', 'cd', '/']\n",
      "['$', 'ls']\n",
      "['dir', 'a']\n",
      "['14848514', 'b.txt']\n"
     ]
    },
    {
     "ename": "KeyError",
     "evalue": "''",
     "output_type": "error",
     "traceback": [
      "\u001b[1;31m---------------------------------------------------------------------------\u001b[0m",
      "\u001b[1;31mKeyError\u001b[0m                                  Traceback (most recent call last)",
      "\u001b[1;32m~\\AppData\\Local\\Temp/ipykernel_29420/2641142141.py\u001b[0m in \u001b[0;36m<module>\u001b[1;34m\u001b[0m\n\u001b[0;32m     49\u001b[0m \u001b[0mpath\u001b[0m \u001b[1;33m=\u001b[0m \u001b[1;34m''\u001b[0m\u001b[1;33m\u001b[0m\u001b[1;33m\u001b[0m\u001b[0m\n\u001b[0;32m     50\u001b[0m \u001b[1;32mfor\u001b[0m \u001b[0mline\u001b[0m \u001b[1;32min\u001b[0m \u001b[0mf\u001b[0m\u001b[1;33m:\u001b[0m\u001b[1;33m\u001b[0m\u001b[1;33m\u001b[0m\u001b[0m\n\u001b[1;32m---> 51\u001b[1;33m     \u001b[0mcurrent_dir\u001b[0m\u001b[1;33m,\u001b[0m \u001b[0mdir_hierarki\u001b[0m \u001b[1;33m=\u001b[0m \u001b[0mparse_cmd\u001b[0m\u001b[1;33m(\u001b[0m\u001b[0mline\u001b[0m\u001b[1;33m,\u001b[0m \u001b[0mpath\u001b[0m\u001b[1;33m,\u001b[0m \u001b[0mdir_hierarki\u001b[0m\u001b[1;33m)\u001b[0m\u001b[1;33m\u001b[0m\u001b[1;33m\u001b[0m\u001b[0m\n\u001b[0m\u001b[0;32m     52\u001b[0m \u001b[1;33m\u001b[0m\u001b[0m\n\u001b[0;32m     53\u001b[0m \u001b[1;31m#print(dir_hierarki)\u001b[0m\u001b[1;33m\u001b[0m\u001b[1;33m\u001b[0m\u001b[1;33m\u001b[0m\u001b[0m\n",
      "\u001b[1;32m~\\AppData\\Local\\Temp/ipykernel_29420/2641142141.py\u001b[0m in \u001b[0;36mparse_cmd\u001b[1;34m(cmd, path, dir_hier)\u001b[0m\n\u001b[0;32m     24\u001b[0m         \u001b[1;31m# Add file size\u001b[0m\u001b[1;33m\u001b[0m\u001b[1;33m\u001b[0m\u001b[1;33m\u001b[0m\u001b[0m\n\u001b[0;32m     25\u001b[0m         \u001b[1;31m# print(cmd[0])\u001b[0m\u001b[1;33m\u001b[0m\u001b[1;33m\u001b[0m\u001b[1;33m\u001b[0m\u001b[0m\n\u001b[1;32m---> 26\u001b[1;33m         \u001b[0mdir_hier\u001b[0m\u001b[1;33m[\u001b[0m\u001b[0mpath\u001b[0m\u001b[1;33m]\u001b[0m\u001b[1;33m[\u001b[0m\u001b[1;34m'size'\u001b[0m\u001b[1;33m]\u001b[0m \u001b[1;33m+=\u001b[0m \u001b[0mint\u001b[0m\u001b[1;33m(\u001b[0m\u001b[0mcmd\u001b[0m\u001b[1;33m[\u001b[0m\u001b[1;36m0\u001b[0m\u001b[1;33m]\u001b[0m\u001b[1;33m)\u001b[0m\u001b[1;33m\u001b[0m\u001b[1;33m\u001b[0m\u001b[0m\n\u001b[0m\u001b[0;32m     27\u001b[0m \u001b[1;33m\u001b[0m\u001b[0m\n\u001b[0;32m     28\u001b[0m     \u001b[1;32mreturn\u001b[0m \u001b[0mcurrent_dir\u001b[0m\u001b[1;33m,\u001b[0m \u001b[0mdir_hier\u001b[0m\u001b[1;33m\u001b[0m\u001b[1;33m\u001b[0m\u001b[0m\n",
      "\u001b[1;31mKeyError\u001b[0m: ''"
     ]
    }
   ],
   "source": [
    "import re\n",
    "\n",
    "def parse_cmd(cmd, path, dir_hier):\n",
    "    cmd = cmd.split()\n",
    "    print(cmd)\n",
    "    if cmd[0] == '$': # command\n",
    "        if cmd[1] == 'ls': # List dir and files / do nothing\n",
    "              # print('List cmd. Do nothing')\n",
    "            return path, dir_hier\n",
    "        elif cmd[1] == 'cd' and cmd[2] == '..':\n",
    "            # go back in path\n",
    "            lastdir = path.rfind(\"/\")\n",
    "            lastdir2 = path[:lastdir].rfind(\"/\")\n",
    "            path = path[:lastdir2+1]\n",
    "        else:\n",
    "            path += cmd[2] + '/'\n",
    "            if path not in dir_hier.keys():\n",
    "                dir_hier[path] = {'size':0}\n",
    "    elif cmd[0] == 'dir': # directory\n",
    "        # Add dir name to current dir log\n",
    "        # does it already exist?\n",
    "        return path, dir_hier\n",
    "    elif cmd[0].isnumeric(): # file\n",
    "        # Add file size\n",
    "        # print(cmd[0])\n",
    "        dir_hier[path]['size'] += int(cmd[0])\n",
    "\n",
    "    return path, dir_hier\n",
    "\n",
    "def get_size_of_folder(folder, dir_hier):\n",
    "    subfolders = dir_hier[folder]['dirs']\n",
    "    folder_size = dir_hier[folder]['size']\n",
    "    if subfolders:\n",
    "        for subfolder in subfolders:\n",
    "            folder_size += get_size_of_folder(subfolder, dir_hier)\n",
    "    return folder_size\n",
    "\n",
    "def calc_dir_size(dir_hier):\n",
    "    for folder in dir_hier.keys():\n",
    "        if folder not in ['/']:\n",
    "            dir_hier[folder]['size'] = get_size_of_folder(folder, dir_hier)\n",
    "        print(dir_hier[folder])\n",
    "    return dir_hier\n",
    "\n",
    "\n",
    "f = open('C:\\git\\AOC2020/2022\\DATJA\\day7test.txt')\n",
    "\n",
    "dir_hierarki = {}\n",
    "path = ''\n",
    "for line in f:\n",
    "    current_dir, dir_hierarki = parse_cmd(line, path, dir_hierarki)\n",
    "\n",
    "#print(dir_hierarki)\n",
    "dir_hierarki_new = calc_dir_size(dir_hierarki)\n",
    "print(dir_hierarki_new)\n"
   ]
  },
  {
   "cell_type": "code",
   "execution_count": 22,
   "metadata": {},
   "outputs": [
    {
     "name": "stdout",
     "output_type": "stream",
     "text": [
      "{'//': 843566, '//dpbwg/': 100731, '//dpbwg/dgh/': 197049, '//dpbwg/rpwnv/': 10702, '//dvwfscw/': 362609, '//dvwfscw/bvg/': 451016, '//dvwfscw/fbfjs/': 509060, '//dvwfscw/fbfjs/qsgv/': 785288, '//dvwfscw/gsmnprgz/': 62355, '//dvwfscw/gsmnprgz/dzcsldzw/': 0, '//dvwfscw/gsmnprgz/dzcsldzw/hmcj/': 151947, '//dvwfscw/gsmnprgz/hrjmfd/': 65599, '//dvwfscw/gsmnprgz/hrjmfd/drjlhbqf/': 451202, '//dvwfscw/gsmnprgz/lcwv/': 244844, '//dvwfscw/gsmnprgz/sdp/': 0, '//dvwfscw/gsmnprgz/sdp/gcwjj/': 149603, '//dvwfscw/gsmnprgz/sdp/qzdczvwn/': 291187, '//dvwfscw/gsmnprgz/sdp/qzdczvwn/gnvbm/': 380384, '//dvwfscw/gsmnprgz/sdp/qzdczvwn/gnvbm/vqrcd/': 341094, '//dvwfscw/gsmnprgz/sdp/qzdczvwn/msdt/': 235873, '//dvwfscw/gsmnprgz/sdp/qzdczvwn/mwvbpw/': 308719, '//dvwfscw/gsmnprgz/sdp/qzdczvwn/mwvbpw/btzqzvbl/': 468820, '//dvwfscw/gsmnprgz/sdp/qzdczvwn/shpr/': 290591, '//dvwfscw/hdwdcvv/': 96864, '//dvwfscw/mhjtrlqz/': 258927, '//dvwfscw/mhjtrlqz/bzrbsfjp/': 331321, '//dvwfscw/mhjtrlqz/bzrbsfjp/lthr/': 237053, '//dvwfscw/mhjtrlqz/hqzgs/': 883335, '//dvwfscw/mhjtrlqz/hqzgs/rnmsdpmj/': 513710, '//hccpl/': 0, '//hccpl/blqdjh/': 0, '//hccpl/blqdjh/fbpg/': 231357, '//hccpl/hfqw/': 1173378, '//hccpl/qsgv/': 576568, '//hccpl/qsgv/bslqpr/': 81623, '//hccpl/qsgv/bslqpr/fpj/': 88146, '//hccpl/qsgv/bslqpr/lhjmzsl/': 256111, '//hccpl/qsgv/bslqpr/lncmt/': 192228, '//hccpl/qsgv/bslqpr/mwvbpw/': 65217, '//hccpl/qsgv/bslqpr/njhsmb/': 168096, '//hccpl/qsgv/bslqpr/rjzsddlw/': 0, '//hccpl/qsgv/bslqpr/rjzsddlw/cftp/': 384105, '//hccpl/qsgv/bslqpr/rjzsddlw/flcfwml/': 51498, '//hccpl/qsgv/bslqpr/rjzsddlw/vpdbl/': 98690, '//hccpl/qsgv/dpbwg/': 0, '//hccpl/qsgv/dpbwg/wlmdbjh/': 245468, '//hccpl/qsgv/dpbwg/wlmdbjh/pmldd/': 145032, '//hccpl/qsgv/lhjmzsl/': 655054, '//hccpl/qsgv/lhjmzsl/frsggjl/': 313045, '//hccpl/qsgv/lhjmzsl/frsggjl/dshv/': 85609, '//hccpl/qsgv/lhjmzsl/frsggjl/dshv/pptfqn/': 298716, '//hccpl/qsgv/lhjmzsl/frsggjl/dshv/zfmqls/': 414113, '//hccpl/qsgv/lhjmzsl/frsggjl/fqvpc/': 0, '//hccpl/qsgv/lhjmzsl/frsggjl/fqvpc/pqpf/': 312566, '//hccpl/qsgv/lhjmzsl/frsggjl/lhjmzsl/': 233961, '//hccpl/qsgv/lhjmzsl/frsggjl/rngqmwgr/': 121391, '//hccpl/qsgv/lhjmzsl/hmcj/': 421034, '//hccpl/qsgv/lhjmzsl/hmcj/qsgv/': 497356, '//hccpl/qsgv/lhjmzsl/jmhzlq/': 245813, '//hccpl/qsgv/lhjmzsl/jmhzlq/bbpqsf/': 169373, '//hccpl/qsgv/lhjmzsl/jvdtpzd/': 641428, '//hccpl/qsgv/lhjmzsl/jvdtpzd/brfln/': 65066, '//hccpl/qsgv/lhjmzsl/jvdtpzd/dpbwg/': 281885, '//hccpl/qsgv/lhjmzsl/jvdtpzd/dpbwg/jtqwgc/': 219022, '//hccpl/qsgv/lhjmzsl/jvdtpzd/dpbwg/lrdjdqn/': 116830, '//hccpl/qsgv/lhjmzsl/jvdtpzd/dpbwg/lrdjdqn/mwvbpw/': 251737, '//hccpl/qsgv/lhjmzsl/jvdtpzd/mwvbpw/': 226329, '//hccpl/qsgv/lhjmzsl/jvdtpzd/tcgwhp/': 0, '//hccpl/qsgv/lhjmzsl/jvdtpzd/tcgwhp/grmsl/': 197995, '//hccpl/qsgv/lhjmzsl/jvdtpzd/tcgwhp/grmsl/hmcj/': 335156, '//hccpl/qsgv/lhjmzsl/jvdtpzd/tcgwhp/grmsl/hmcj/rrvccjp/': 0, '//hccpl/qsgv/lhjmzsl/jvdtpzd/tcgwhp/grmsl/hmcj/rrvccjp/qsgv/': 192956, '//hccpl/qsgv/rpj/': 249767, '//hccpl/qsgv/rpj/bwc/': 233191, '//hccpl/qsgv/rpj/bwc/stff/': 0, '//hccpl/qsgv/rpj/bwc/stff/gsjsc/': 514, '//hccpl/qsgv/rpj/ctjwjlzc/': 39823, '//hccpl/qsgv/rpj/dpbwg/': 0, '//hccpl/qsgv/rpj/dpbwg/lhqrjr/': 179949, '//hccpl/qsgv/rpj/lhjmzsl/': 305735, '//hccpl/qsgv/rpj/wqmlz/': 141757, '//hccpl/qsgv/stbgbrw/': 818537, '//hccpl/qsgv/stbgbrw/gbr/': 477939, '//hccpl/qsgv/stbgbrw/lhv/': 103919, '//hccpl/qsgv/stbgbrw/qqqbtpq/': 96300, '//hccpl/qsgv/stbgbrw/vqmnsdrt/': 335769, '//hccpl/qsgv/stbgbrw/vqmnsdrt/rtng/': 42730, '//hccpl/qsgv/vhzmg/': 0, '//hccpl/qsgv/vhzmg/dcmjvhtt/': 808771, '//hccpl/qsgv/vhzmg/dpbwg/': 156142, '//hccpl/qsgv/vhzmg/dpbwg/lhjmzsl/': 13590, '//jsgbg/': 202682, '//lhjmzsl/': 197308, '//pngs/': 241393, '//pngs/lhjmzsl/': 55108, '//pngs/mwbffchr/': 249138, '//qhs/': 306017, '//sntcp/': 0, '//sntcp/cvgtwsbw/': 0, '//sntcp/cvgtwsbw/bprbr/': 387364, '//sntcp/cvgtwsbw/bprbr/wbrb/': 387272, '//sntcp/cvgtwsbw/bprbr/wbrb/gwfpgws/': 519107, '//sntcp/cvgtwsbw/bpw/': 173334, '//sntcp/cvgtwsbw/bpw/lgstpgrn/': 0, '//sntcp/cvgtwsbw/bpw/lgstpgrn/rngr/': 738280, '//sntcp/cvgtwsbw/dpbwg/': 882280, '//sntcp/cvgtwsbw/dpbwg/mwvbpw/': 776672, '//sntcp/cvgtwsbw/jvjs/': 51134, '//sntcp/cvgtwsbw/mwvbpw/': 283248, '//sntcp/cvgtwsbw/nbfzn/': 17011, '//sntcp/cvgtwsbw/pcr/': 95858, '//sntcp/cvgtwsbw/pcr/dpbwg/': 0, '//sntcp/cvgtwsbw/pcr/dpbwg/wmsb/': 154498, '//sntcp/cvgtwsbw/rhgltw/': 188447, '//sntcp/dpbwg/': 930405, '//sntcp/dpbwg/lhjmzsl/': 245410, '//sntcp/dpbwg/wsc/': 642099, '//sntcp/dpbwg/wsc/lhjmzsl/': 0, '//sntcp/dpbwg/wsc/lhjmzsl/dpbwg/': 273340, '//sntcp/dpbwg/wsc/qgpqzr/': 0, '//sntcp/dpbwg/wsc/qgpqzr/fdwgdhrf/': 275421, '//sntcp/dqbzfcq/': 30930, '//sntcp/gfvtsjmz/': 444823, '//sntcp/ljsmjsp/': 208291, '//sntcp/ljsmjsp/mvzchpq/': 578249, '//sntcp/ljsmjsp/mvzchpq/mwvbpw/': 309971, '//sntcp/ljsmjsp/mvzchpq/mwvbpw/njwcqcjh/': 155159, '//sntcp/ljsmjsp/mwvbpw/': 43451, '//sntcp/mwvbpw/': 3144, '//sntcp/phfqzwp/': 562309, '//sntcp/phfqzwp/hmcj/': 4346, '//sntcp/phfqzwp/hnnrw/': 103070, '//sntcp/phfqzwp/hnnrw/lhjmzsl/': 158692, '//sntcp/phfqzwp/hnnrw/rdf/': 0, '//sntcp/phfqzwp/hnnrw/rdf/gpj/': 136508, '//sntcp/phfqzwp/hnnrw/rdf/lbgpm/': 716591, '//sntcp/rpsnfndl/': 0, '//sntcp/rpsnfndl/pcbtmcwf/': 0, '//sntcp/rpsnfndl/pcbtmcwf/qsgv/': 45662, '//sntcp/rrqwcbqm/': 0, '//sntcp/rrqwcbqm/vjm/': 263137, '//sntcp/rtv/': 0, '//sntcp/rtv/lhjmzsl/': 0, '//sntcp/rtv/lhjmzsl/qzsjhsfn/': 26909, '//sntcp/rtv/pcwsn/': 305198, '//sntcp/rtv/qsgv/': 215873, '//sntcp/rtv/qsgv/jqm/': 222831, '//sntcp/rtv/vvzbsg/': 84246, '//sntcp/vnvft/': 0, '//sntcp/vnvft/crqrl/': 122206, '//sntcp/vnvft/scdvzsd/': 0, '//sntcp/vnvft/scdvzsd/hmcj/': 252155, '//sntcp/vqcvbncp/': 72128, '//sntcp/vqcvbncp/ddz/': 793459, '//sntcp/vqcvbncp/dvhzvdn/': 273183, '//sntcp/vqcvbncp/ffsbcmg/': 59055, '//sntcp/vqcvbncp/gfs/': 604396, '//sntcp/vqcvbncp/gfs/rqjrfzgt/': 900060, '//sntcp/vqcvbncp/gfs/tqtnp/': 310623, '//sntcp/vqcvbncp/jghlb/': 0, '//sntcp/vqcvbncp/jghlb/ddrmsv/': 252143, '//sntcp/vqcvbncp/llq/': 222500, '//sntcp/vqcvbncp/llq/lhjmzsl/': 151930, '//sntcp/vqcvbncp/llq/qsgv/': 233702, '//sntcp/vqcvbncp/llq/vcvnzc/': 168179, '//sntcp/vqcvbncp/pvn/': 240160, '//sntcp/vqcvbncp/rvqmmjgr/': 224692, '//sntcp/vqcvbncp/rvqmmjgr/hmcj/': 558224, '//sntcp/vqcvbncp/rvqmmjgr/hmcj/jchccghv/': 310277, '//sntcp/vqcvbncp/rvqmmjgr/hmcj/lhjmzsl/': 267539, '//sntcp/vqcvbncp/rvqmmjgr/lhjmzsl/': 121640, '//sntcp/vqcvbncp/rvqmmjgr/lhjmzsl/bsfwmcz/': 293299, '//sntcp/vqcvbncp/rvqmmjgr/lhjmzsl/bsfwmcz/fjqqblz/': 26064, '//sntcp/vqcvbncp/rvqmmjgr/lhjmzsl/bsfwmcz/hmcj/': 14385, '//sntcp/vqcvbncp/rvqmmjgr/lhjmzsl/bsfwmcz/lctt/': 410036, '//sntcp/vqcvbncp/rvqmmjgr/lhjmzsl/bsfwmcz/lctt/jgbzqzq/': 135320, '//sntcp/vqcvbncp/rvqmmjgr/lhjmzsl/bsfwmcz/lctt/qrr/': 54143, '//sntcp/vqcvbncp/rvqmmjgr/lhjmzsl/bsfwmcz/lctt/qrr/dpbwg/': 250653, '//sntcp/vqcvbncp/rvqmmjgr/lhjmzsl/bsfwmcz/lctt/qrr/mwvbpw/': 2682, '//sntcp/vqcvbncp/rvqmmjgr/lhjmzsl/bsfwmcz/lctt/qrr/wbpzpg/': 272127, '//sntcp/vqcvbncp/rvqmmjgr/lhjmzsl/bsfwmcz/lctt/qrr/wbpzpg/bqshqpvm/': 252449, '//sntcp/vqcvbncp/rvqmmjgr/lhjmzsl/dpbwg/': 82216, '//sntcp/vqcvbncp/rvqmmjgr/lhjmzsl/pmrfvzw/': 0, '//sntcp/vqcvbncp/rvqmmjgr/lhjmzsl/pmrfvzw/mwvbpw/': 16736, '//sntcp/vqcvbncp/rvqmmjgr/lhjmzsl/pmrfvzw/wtzgjspz/': 0, '//sntcp/vqcvbncp/rvqmmjgr/lhjmzsl/pmrfvzw/wtzgjspz/vjb/': 301763, '//sntcp/vqcvbncp/rvqmmjgr/lhjmzsl/pmrfvzw/zmb/': 349867, '//sntcp/vqcvbncp/rvqmmjgr/lhjmzsl/pmrfvzw/zmb/qgnffw/': 528236, '//sntcp/vqcvbncp/rvqmmjgr/lhjmzsl/qsgv/': 0, '//sntcp/vqcvbncp/rvqmmjgr/lhjmzsl/qsgv/mmsnzr/': 160502, '//sntcp/vqcvbncp/rvqmmjgr/mwvbpw/': 353467, '//sntcp/vqcvbncp/rvqmmjgr/qcqrgdm/': 202848, '//sntcp/vsgjds/': 161674, '//sqs/': 0, '//sqs/zms/': 152096, '//sqs/zms/mmwzg/': 100870}\n"
     ]
    }
   ],
   "source": [
    "file = open(\"C:\\git\\AOC2020/2022\\DATJA\\day7.txt\", \"r\")\n",
    "data = file.read().splitlines()\n",
    "path = \"\"\n",
    "files = dict()\n",
    "directorys = dict()\n",
    "for line in data:\n",
    "    if line[0:4] == \"$ cd\" and line[5:7] != \"..\":\n",
    "        path += line[5:]+\"/\"\n",
    "        directorys[path] = 0\n",
    "    if line[5:7] == \"..\":\n",
    "        lastdir = path.rfind(\"/\")\n",
    "        lastdir2 = path[:lastdir].rfind(\"/\")\n",
    "        path = path[:lastdir2+1]\n",
    "    if line.split(\" \")[0].isnumeric()==True:\n",
    "        file = path+line.split(\" \")[1]\n",
    "        files[file]=line.split(\" \")[0]\n",
    "        directorys[path] += int(line.split(\" \")[0])\n",
    "\n",
    "print(directorys)"
   ]
  }
 ],
 "metadata": {
  "kernelspec": {
   "display_name": "Python 3.9.6 64-bit",
   "language": "python",
   "name": "python3"
  },
  "language_info": {
   "codemirror_mode": {
    "name": "ipython",
    "version": 3
   },
   "file_extension": ".py",
   "mimetype": "text/x-python",
   "name": "python",
   "nbconvert_exporter": "python",
   "pygments_lexer": "ipython3",
   "version": "3.9.6"
  },
  "orig_nbformat": 4,
  "vscode": {
   "interpreter": {
    "hash": "81794d4967e6c3204c66dcd87b604927b115b27c00565d3d43f05ba2f3a2cb0d"
   }
  }
 },
 "nbformat": 4,
 "nbformat_minor": 2
}
