{
 "cells": [
  {
   "cell_type": "code",
   "execution_count": 3,
   "metadata": {},
   "outputs": [
    {
     "name": "stdout",
     "output_type": "stream",
     "text": [
      "[[-13   1   2  17  16  15  14  13]\n",
      " [  1   2   3  18  25  24  24  12]\n",
      " [  1   3   3  19  26 -27  24  11]\n",
      " [  1   3   3  20  21  22  23  10]\n",
      " [  1   2   4   5   6   7   8   9]]\n",
      "8\n"
     ]
    }
   ],
   "source": [
    "import numpy as np\n",
    "def calc_elevation(current_pos, map):\n",
    "    current_val = map[current_pos[0],current_pos[1]]\n",
    "    up_elevation = None if current_pos[1] == 0 else map[current_pos[0],current_pos[1]-1] - current_val\n",
    "    down_elevation = None if current_pos[1] == map.shape[0] else map[current_pos[0],current_pos[1]+1] - current_val\n",
    "    left_elevation = None if current_pos[0] == 0 else map[current_pos[0]-1,current_pos[1]] - current_val\n",
    "    right_elevation = None if current_pos[0] == map.shape[0] else map[current_pos[0]+1,current_pos[1]] - current_val\n",
    "\n",
    "    return current_val, up_elevation, down_elevation, left_elevation, right_elevation\n",
    "\n",
    "def move(current_pos, end_pos, map):\n",
    "    current_val, up_elevation, down_elevation, left_elevation, right_elevation = calc_elevation(current_pos, map)\n",
    "    travel_distance = end_pos - current_pos\n",
    "    print(travel_distance)\n",
    "    \n",
    "    \n",
    "data = [list(line.strip()) for line in open(\"C:\\git\\AOC2020/2022\\DATJA\\day12test.txt\", 'r')]\n",
    "start_number = ord('S') - 96\n",
    "end_number = ord('E') - 96\n",
    "data = [[ord(x)-96 for x in y ]for y in data]\n",
    "data = np.array(data)\n",
    "print(data)\n",
    "\n",
    "start_idx = np.where(data == start_number)\n",
    "end_idx = np.where(data == end_number)\n",
    "\n"
   ]
  },
  {
   "cell_type": "code",
   "execution_count": null,
   "metadata": {},
   "outputs": [],
   "source": []
  }
 ],
 "metadata": {
  "kernelspec": {
   "display_name": "Python 3.10.9 64-bit",
   "language": "python",
   "name": "python3"
  },
  "language_info": {
   "codemirror_mode": {
    "name": "ipython",
    "version": 3
   },
   "file_extension": ".py",
   "mimetype": "text/x-python",
   "name": "python",
   "nbconvert_exporter": "python",
   "pygments_lexer": "ipython3",
   "version": "3.10.9"
  },
  "orig_nbformat": 4,
  "vscode": {
   "interpreter": {
    "hash": "369f2c481f4da34e4445cda3fffd2e751bd1c4d706f27375911949ba6bb62e1c"
   }
  }
 },
 "nbformat": 4,
 "nbformat_minor": 2
}
