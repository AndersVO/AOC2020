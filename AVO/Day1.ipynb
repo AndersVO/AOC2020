{
  "nbformat": 4,
  "nbformat_minor": 0,
  "metadata": {
    "colab": {
      "name": "Day1.ipynb",
      "provenance": [],
      "collapsed_sections": [],
      "mount_file_id": "https://github.com/AndersVO/AOC/blob/master/Day1.ipynb",
      "authorship_tag": "ABX9TyOxXS8ZB6YzfaT+1qK7vhlB",
      "include_colab_link": true
    },
    "kernelspec": {
      "name": "python3",
      "display_name": "Python 3"
    }
  },
  "cells": [
    {
      "cell_type": "markdown",
      "metadata": {
        "id": "view-in-github",
        "colab_type": "text"
      },
      "source": [
        "<a href=\"https://colab.research.google.com/github/AndersVO/AOC2020/blob/main/AVO/Day1.ipynb\" target=\"_parent\"><img src=\"https://colab.research.google.com/assets/colab-badge.svg\" alt=\"Open In Colab\"/></a>"
      ]
    },
    {
      "cell_type": "code",
      "metadata": {
        "id": "kH0ui-Gjb_2H"
      },
      "source": [
        "with open(\"/content/drive/MyDrive/AOC2020/Day_01/day_01_input.txt\") as f:\n",
        "    inputs = [int(line.strip()) for line in f]\n",
        "    #print(inputs)\n",
        "\n",
        "\n",
        "TEST = [1721, 979, 366, 299, 675, 1456]"
      ],
      "execution_count": null,
      "outputs": []
    },
    {
      "cell_type": "code",
      "metadata": {
        "colab": {
          "base_uri": "https://localhost:8080/"
        },
        "id": "FGznh3HwMToj",
        "outputId": "1df8c4f7-8e73-4c26-f560-fdf10472c1e6"
      },
      "source": [
        "def find_pair(inputs):\n",
        "  '''\n",
        "  Old google interview task.\n",
        "\n",
        "  Go and find a list of what is needed to complete the task and then look for that to stop early. \n",
        "  '''\n",
        "  needs = {2020  - i for i in inputs}\n",
        "\n",
        "  for i in inputs:\n",
        "    if i in needs:\n",
        "      return i * (2020 - i)\n",
        "\n",
        "assert find_pair(TEST) == 514579\n",
        "\n",
        "print(find_pair(inputs))"
      ],
      "execution_count": null,
      "outputs": [
        {
          "output_type": "stream",
          "text": [
            "996996\n"
          ],
          "name": "stdout"
        }
      ]
    },
    {
      "cell_type": "code",
      "metadata": {
        "colab": {
          "base_uri": "https://localhost:8080/"
        },
        "id": "3rAgSCgFOQtR",
        "outputId": "5802a05c-1130-4bf2-91d0-aa6e92222aaf"
      },
      "source": [
        "def find_triple(inputs):\n",
        "  '''\n",
        "  Same task but with three inputs. \n",
        "  '''\n",
        "  needs = {2020 - i - j: (i, j) for i in inputs for j in inputs if i != j}\n",
        "  #print(needs)\n",
        "\n",
        "  for i in inputs:\n",
        "   if i in needs:\n",
        "     j,k = needs[i]\n",
        "     return i * j * k\n",
        "\n",
        "assert find_triple(TEST) == 241861950\n",
        "\n",
        "find_triple(inputs)"
      ],
      "execution_count": null,
      "outputs": [
        {
          "output_type": "execute_result",
          "data": {
            "text/plain": [
              "9210402"
            ]
          },
          "metadata": {
            "tags": []
          },
          "execution_count": 7
        }
      ]
    }
  ]
}